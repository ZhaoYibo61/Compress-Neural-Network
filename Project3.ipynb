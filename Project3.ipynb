{
 "cells": [
  {
   "cell_type": "code",
   "execution_count": 1,
   "metadata": {},
   "outputs": [
    {
     "name": "stderr",
     "output_type": "stream",
     "text": [
      "/opt/conda/lib/python2.7/site-packages/h5py/__init__.py:36: FutureWarning: Conversion of the second argument of issubdtype from `float` to `np.floating` is deprecated. In future, it will be treated as `np.float64 == np.dtype(float).type`.\n",
      "  from ._conv import register_converters as _register_converters\n",
      "Using TensorFlow backend.\n"
     ]
    },
    {
     "name": "stdout",
     "output_type": "stream",
     "text": [
      "Downloading data from https://www.cs.toronto.edu/~kriz/cifar-10-python.tar.gz\n",
      "170500096/170498071 [==============================] - 22s 0us/step\n",
      "170508288/170498071 [==============================] - 22s 0us/step\n",
      "('X_train shape:', (50000, 32, 32, 3))\n",
      "(50000, 'train samples')\n",
      "(10000, 'test samples')\n",
      "[0.4099401381775737, 0.8994]\n"
     ]
    }
   ],
   "source": [
    "import keras\n",
    "from keras.preprocessing.image import ImageDataGenerator\n",
    "from keras.models import Sequential, Model\n",
    "from keras.layers import Dense, Activation, Input, Lambda, Conv2D, MaxPooling2D, Flatten, Dropout\n",
    "from keras.layers.normalization import BatchNormalization\n",
    "\n",
    "from keras import backend as K\n",
    "from keras.engine.topology import Layer\n",
    "import numpy as np\n",
    "\n",
    "from keras.datasets import cifar10\n",
    "from keras.utils import np_utils\n",
    "\n",
    "from utils import *\n",
    "\n",
    "\n",
    "(X_train, y_train), (X_test, y_test) = cifar10.load_data()\n",
    "\n",
    "X_train=X_train.astype(np.float32)\n",
    "X_test=X_test.astype(np.float32)\n",
    "Y_train = np_utils.to_categorical(y_train, 10)\n",
    "Y_test = np_utils.to_categorical(y_test, 10)\n",
    "X_train /= 255\n",
    "X_test /= 255\n",
    "X_train=2*X_train-1\n",
    "X_test=2*X_test-1\n",
    "\n",
    "\n",
    "print('X_train shape:', X_train.shape)\n",
    "print(X_train.shape[0], 'train samples')\n",
    "print(X_test.shape[0], 'test samples')\n",
    "\n",
    "batch_size=100\n",
    "lr=0.001\n",
    "Training=True\n",
    "Compressing=False\n",
    "\n",
    "def get_model():\n",
    "\tbatch_norm_alpha=0.9\n",
    "\tbatch_norm_eps=1e-4\n",
    "\n",
    "\tmodel=Sequential()\n",
    "\n",
    "\tmodel.add(Conv2D(filters=64, kernel_size=3, strides=(1, 1), padding='valid',input_shape=[32,32,3]))\n",
    "\tmodel.add(Activation('relu'))\n",
    "\tmodel.add(BatchNormalization(axis=-1, momentum=batch_norm_alpha, epsilon=batch_norm_eps))\n",
    "\tmodel.add(Conv2D(filters=64, kernel_size=3, strides=(1, 1), padding='valid'))\n",
    "\tmodel.add(Activation('relu'))\n",
    "\tmodel.add(BatchNormalization(axis=-1, momentum=batch_norm_alpha, epsilon=batch_norm_eps))\n",
    "\tmodel.add(MaxPooling2D(pool_size=(2, 2),strides=(2,2)))\n",
    "\n",
    "\tmodel.add(Conv2D(filters=128, kernel_size=3, strides=(1, 1), padding='valid'))\n",
    "\tmodel.add(Activation('relu'))\n",
    "\tmodel.add(BatchNormalization(axis=-1, momentum=batch_norm_alpha, epsilon=batch_norm_eps))\n",
    "\tmodel.add(Conv2D(filters=128, kernel_size=3, strides=(1, 1), padding='valid'))\n",
    "\tmodel.add(Activation('relu'))\n",
    "\tmodel.add(BatchNormalization(axis=-1, momentum=batch_norm_alpha, epsilon=batch_norm_eps))\n",
    "\tmodel.add(MaxPooling2D(pool_size=(2, 2),strides=(2,2)))\n",
    "\n",
    "\tmodel.add(Conv2D(filters=256, kernel_size=3, strides=(1, 1), padding='valid'))\n",
    "\tmodel.add(Activation('relu'))\n",
    "\tmodel.add(BatchNormalization(axis=-1, momentum=batch_norm_alpha, epsilon=batch_norm_eps))\n",
    "\tmodel.add(Conv2D(filters=256, kernel_size=3, strides=(1, 1), padding='valid'))\n",
    "\tmodel.add(Activation('relu'))\n",
    "\tmodel.add(BatchNormalization(axis=-1, momentum=batch_norm_alpha, epsilon=batch_norm_eps))\n",
    "\t#model.add(MaxPooling2D(pool_size=(2, 2),strides=(2,2)))\n",
    "\n",
    "\tmodel.add(Flatten())\n",
    "\n",
    "\tmodel.add(Dense(512))\n",
    "\tmodel.add(Activation('relu'))\n",
    "\tmodel.add(BatchNormalization(axis=-1, momentum=batch_norm_alpha, epsilon=batch_norm_eps))\n",
    "\tmodel.add(Dense(512))\n",
    "\tmodel.add(Activation('relu'))\n",
    "\tmodel.add(BatchNormalization(axis=-1, momentum=batch_norm_alpha, epsilon=batch_norm_eps))\n",
    "\tmodel.add(Dense(10))\n",
    "\tmodel.add(Activation('softmax'))\n",
    "\n",
    "\treturn model\n",
    "\n",
    "\n",
    "\n",
    "\n",
    "model=get_model()\n",
    "weights_path='pretrained_cifar10.h5'\n",
    "model.load_weights(weights_path)\n",
    "opt = keras.optimizers.Adam(lr=0.001,decay=1e-6)\n",
    "model.compile(loss='sparse_categorical_crossentropy',optimizer=opt,metrics=['accuracy'])\n",
    "#make sure weights are loaded correctly:\n",
    "print model.evaluate(X_test,y_test,verbose=0)\n",
    "\n",
    "\n"
   ]
  },
  {
   "cell_type": "code",
   "execution_count": 2,
   "metadata": {},
   "outputs": [
    {
     "name": "stdout",
     "output_type": "stream",
     "text": [
      "(256, 512)\n",
      "<type 'numpy.ndarray'>\n"
     ]
    }
   ],
   "source": [
    "print(np.array(model.layers[-8].get_weights()[0]).shape)\n",
    "print(type(np.array(model.layers[-8].get_weights())))"
   ]
  },
  {
   "cell_type": "code",
   "execution_count": 5,
   "metadata": {},
   "outputs": [],
   "source": [
    "weights = np.array(model.layers[-8].get_weights()[0])\n",
    "\n",
    "k = 256\n",
    "\n",
    "U,s,V=np.linalg.svd(weights)\n",
    "\n",
    "A=np.dot(U[:,0:k],np.diag(s[0:k]))\n",
    "\n",
    "B=V[0:k,:]"
   ]
  },
  {
   "cell_type": "code",
   "execution_count": 6,
   "metadata": {},
   "outputs": [],
   "source": [
    "# plot of energy\n",
    "prev = 0\n",
    "energy = []\n",
    "for i in s:\n",
    "    prev += i \n",
    "    energy.append(prev)\n",
    "    "
   ]
  },
  {
   "cell_type": "code",
   "execution_count": 8,
   "metadata": {},
   "outputs": [
    {
     "data": {
      "image/png": "[encoded data removed]",
      "text/plain": [
       "<Figure size 432x288 with 1 Axes>"
      ]
     },
     "metadata": {},
     "output_type": "display_data"
    }
   ],
   "source": [
    "import matplotlib.pyplot as plt\n",
    "\n",
    "plt.plot(energy)\n",
    "plt.show()"
   ]
  },
  {
   "cell_type": "code",
   "execution_count": 9,
   "metadata": {},
   "outputs": [],
   "source": [
    "def get_pca_model(k):\n",
    "    batch_norm_alpha=0.9\n",
    "    batch_norm_eps=1e-4\n",
    "\n",
    "    model=Sequential()\n",
    "\n",
    "    model.add(Conv2D(filters=64, kernel_size=3, strides=(1, 1), padding='valid',input_shape=[32,32,3]))\n",
    "    model.add(Activation('relu'))\n",
    "    model.add(BatchNormalization(axis=-1, momentum=batch_norm_alpha, epsilon=batch_norm_eps))\n",
    "    model.add(Conv2D(filters=64, kernel_size=3, strides=(1, 1), padding='valid'))\n",
    "    model.add(Activation('relu'))\n",
    "    model.add(BatchNormalization(axis=-1, momentum=batch_norm_alpha, epsilon=batch_norm_eps))\n",
    "    model.add(MaxPooling2D(pool_size=(2, 2),strides=(2,2)))\n",
    "\n",
    "    model.add(Conv2D(filters=128, kernel_size=3, strides=(1, 1), padding='valid'))\n",
    "    model.add(Activation('relu'))\n",
    "    model.add(BatchNormalization(axis=-1, momentum=batch_norm_alpha, epsilon=batch_norm_eps))\n",
    "    model.add(Conv2D(filters=128, kernel_size=3, strides=(1, 1), padding='valid'))\n",
    "    model.add(Activation('relu'))\n",
    "    model.add(BatchNormalization(axis=-1, momentum=batch_norm_alpha, epsilon=batch_norm_eps))\n",
    "    model.add(MaxPooling2D(pool_size=(2, 2),strides=(2,2)))\n",
    "    print('True')\n",
    "    model.add(Conv2D(filters=256, kernel_size=3, strides=(1, 1), padding='valid'))\n",
    "    model.add(Activation('relu'))\n",
    "    model.add(BatchNormalization(axis=-1, momentum=batch_norm_alpha, epsilon=batch_norm_eps))\n",
    "    model.add(Conv2D(filters=256, kernel_size=3, strides=(1, 1), padding='valid'))\n",
    "    model.add(Activation('relu'))\n",
    "    model.add(BatchNormalization(axis=-1, momentum=batch_norm_alpha, epsilon=batch_norm_eps))\n",
    "    #model.add(MaxPooling2D(pool_size=(2, 2),strides=(2,2)))\n",
    "\n",
    "    model.add(Flatten())\n",
    "\n",
    "    model.add(Dense(k))\n",
    "    model.add(Dense(512))\n",
    "    model.add(Activation('relu'))\n",
    "    model.add(BatchNormalization(axis=-1, momentum=batch_norm_alpha, epsilon=batch_norm_eps))\n",
    "    model.add(Dense(512))\n",
    "    model.add(Activation('relu'))\n",
    "    model.add(BatchNormalization(axis=-1, momentum=batch_norm_alpha, epsilon=batch_norm_eps))\n",
    "    model.add(Dense(10))\n",
    "    model.add(Activation('softmax'))\n",
    "\n",
    "    return model"
   ]
  },
  {
   "cell_type": "code",
   "execution_count": 3,
   "metadata": {},
   "outputs": [],
   "source": [
    "K_list= [2, 3, 4, 5, 6, 7, 8, 9, 10, 20]"
   ]
  },
  {
   "cell_type": "code",
   "execution_count": 92,
   "metadata": {},
   "outputs": [
    {
     "name": "stdout",
     "output_type": "stream",
     "text": [
      "[1.8299647834777832, 0.4077]\n",
      "[1.640774785232544, 0.4929]\n",
      "[1.1167606624603272, 0.6313]\n",
      "[1.094612429332733, 0.6579]\n",
      "[0.793471489238739, 0.741]\n",
      "[0.6678630023956299, 0.7861]\n",
      "[0.6125033850312233, 0.8263]\n",
      "[0.43387711187899114, 0.8895]\n",
      "[0.3995317937597632, 0.8958]\n",
      "[0.41013973557651046, 0.899]\n"
     ]
    }
   ],
   "source": [
    "metrics = []\n",
    "for k in K_list:\n",
    "    pca_model = get_pca_model(k)\n",
    "    for i in range(len(pca_model.layers)):\n",
    "        if i==21:\n",
    "            pca_model.layers[i].set_weights([A[:, 0:k], np.zeros(k)])\n",
    "        elif i==22:\n",
    "            pca_model.layers[i].set_weights([B[0:k,:], model.layers[i-1].get_weights()[1]])\n",
    "        else:\n",
    "            if i<22:\n",
    "                pca_model.layers[i].set_weights(model.layers[i].get_weights())\n",
    "            else:\n",
    "                pca_model.layers[i].set_weights(model.layers[i-1].get_weights())\n",
    "    pca_model.compile(loss='sparse_categorical_crossentropy',optimizer=opt,metrics=['accuracy'])\n",
    "    #make sure weights are loaded correctly:\n",
    "    temp = pca_model.evaluate(X_test,y_test,verbose=0)\n",
    "    metrics.append(temp)\n",
    "    print temp\n"
   ]
  },
  {
   "cell_type": "code",
   "execution_count": 25,
   "metadata": {},
   "outputs": [
    {
     "data": {
      "text/plain": [
       "Text(0.5,0,'k')"
      ]
     },
     "execution_count": 25,
     "metadata": {},
     "output_type": "execute_result"
    },
    {
     "data": {
      "image/png": "[encoded data removed]",
      "text/plain": [
       "<Figure size 432x288 with 1 Axes>"
      ]
     },
     "metadata": {},
     "output_type": "display_data"
    }
   ],
   "source": [
    "metrics = [[1.8299647834777832, 0.4077],\n",
    "[1.640774785232544, 0.4929],\n",
    "[1.1167606624603272, 0.6313],\n",
    "[1.094612429332733, 0.6579],\n",
    "[0.793471489238739, 0.741],\n",
    "[0.6678630023956299, 0.7861],\n",
    "[0.6125033850312233, 0.8263],\n",
    "[0.43387711187899114, 0.8895],\n",
    "[0.3995317937597632, 0.8958],\n",
    "[0.41013973557651046, 0.899]]\n",
    "\n",
    "K_list= [2, 3, 4, 5, 6, 7, 8, 9, 10, 20]\n",
    "\n",
    "u = [metrics[i][1] for i in range(len(metrics))]\n",
    "\n",
    "plt.plot(K_list, u)\n",
    "\n",
    "plt.ylabel('Accuracy')\n",
    "plt.xlabel('k')"
   ]
  },
  {
   "cell_type": "code",
   "execution_count": 11,
   "metadata": {},
   "outputs": [
    {
     "name": "stdout",
     "output_type": "stream",
     "text": [
      "True\n",
      "Epoch 1/10\n",
      "50000/50000 [==============================] - 30s 601us/step - loss: 0.6141 - acc: 0.8017\n",
      "Epoch 2/10\n",
      "50000/50000 [==============================] - 28s 566us/step - loss: 0.3239 - acc: 0.8944\n",
      "Epoch 3/10\n",
      "50000/50000 [==============================] - 28s 552us/step - loss: 0.2433 - acc: 0.9205\n",
      "Epoch 4/10\n",
      "50000/50000 [==============================] - 27s 548us/step - loss: 0.1944 - acc: 0.9380\n",
      "Epoch 5/10\n",
      "50000/50000 [==============================] - 28s 570us/step - loss: 0.1588 - acc: 0.9479\n",
      "Epoch 6/10\n",
      "50000/50000 [==============================] - 27s 536us/step - loss: 0.1482 - acc: 0.9524\n",
      "Epoch 7/10\n",
      "50000/50000 [==============================] - 26s 523us/step - loss: 0.1229 - acc: 0.9609\n",
      "Epoch 8/10\n",
      "50000/50000 [==============================] - 26s 522us/step - loss: 0.1166 - acc: 0.9625\n",
      "Epoch 9/10\n",
      "50000/50000 [==============================] - 27s 541us/step - loss: 0.1049 - acc: 0.9659\n",
      "Epoch 10/10\n",
      "50000/50000 [==============================] - 27s 534us/step - loss: 0.0976 - acc: 0.9694\n",
      "[0.5237945289731025, 0.8638]\n",
      "True\n",
      "Epoch 1/10\n",
      "50000/50000 [==============================] - 29s 583us/step - loss: 0.4896 - acc: 0.8414\n",
      "Epoch 2/10\n",
      "50000/50000 [==============================] - 28s 558us/step - loss: 0.2348 - acc: 0.9219\n",
      "Epoch 3/10\n",
      "50000/50000 [==============================] - 28s 557us/step - loss: 0.1756 - acc: 0.9424\n",
      "Epoch 4/10\n",
      "50000/50000 [==============================] - 27s 541us/step - loss: 0.1341 - acc: 0.9562\n",
      "Epoch 5/10\n",
      "50000/50000 [==============================] - 28s 555us/step - loss: 0.1116 - acc: 0.9641\n",
      "Epoch 6/10\n",
      "50000/50000 [==============================] - 28s 560us/step - loss: 0.0969 - acc: 0.9682\n",
      "Epoch 7/10\n",
      "50000/50000 [==============================] - 28s 553us/step - loss: 0.0903 - acc: 0.9698\n",
      "Epoch 8/10\n",
      "50000/50000 [==============================] - 27s 532us/step - loss: 0.0759 - acc: 0.9744\n",
      "Epoch 9/10\n",
      "50000/50000 [==============================] - 27s 540us/step - loss: 0.0749 - acc: 0.9760\n",
      "Epoch 10/10\n",
      "50000/50000 [==============================] - 26s 512us/step - loss: 0.0724 - acc: 0.9763\n",
      "[0.540644391644001, 0.8726]\n",
      "True\n",
      "Epoch 1/10\n",
      "50000/50000 [==============================] - 30s 590us/step - loss: 0.3871 - acc: 0.8743\n",
      "Epoch 2/10\n",
      "50000/50000 [==============================] - 28s 552us/step - loss: 0.1647 - acc: 0.9436\n",
      "Epoch 3/10\n",
      "50000/50000 [==============================] - 27s 550us/step - loss: 0.1220 - acc: 0.9591\n",
      "Epoch 4/10\n",
      "50000/50000 [==============================] - 27s 549us/step - loss: 0.0996 - acc: 0.9670\n",
      "Epoch 5/10\n",
      "50000/50000 [==============================] - 27s 539us/step - loss: 0.0870 - acc: 0.9706\n",
      "Epoch 6/10\n",
      "50000/50000 [==============================] - 27s 537us/step - loss: 0.0770 - acc: 0.9743\n",
      "Epoch 7/10\n",
      "50000/50000 [==============================] - 28s 558us/step - loss: 0.0680 - acc: 0.9775\n",
      "Epoch 8/10\n",
      "50000/50000 [==============================] - 28s 556us/step - loss: 0.0593 - acc: 0.9806\n",
      "Epoch 9/10\n",
      "50000/50000 [==============================] - 27s 541us/step - loss: 0.0619 - acc: 0.9794\n",
      "Epoch 10/10\n",
      "50000/50000 [==============================] - 27s 544us/step - loss: 0.0560 - acc: 0.9814\n",
      "[0.5329763360142707, 0.8719]\n",
      "True\n",
      "Epoch 1/10\n",
      "50000/50000 [==============================] - 30s 592us/step - loss: 0.3325 - acc: 0.8923\n",
      "Epoch 2/10\n",
      "50000/50000 [==============================] - 28s 562us/step - loss: 0.1376 - acc: 0.9536\n",
      "Epoch 3/10\n",
      "50000/50000 [==============================] - 27s 547us/step - loss: 0.1043 - acc: 0.9639\n",
      "Epoch 4/10\n",
      "50000/50000 [==============================] - 27s 549us/step - loss: 0.0805 - acc: 0.9729\n",
      "Epoch 5/10\n",
      "50000/50000 [==============================] - 27s 543us/step - loss: 0.0728 - acc: 0.9749\n",
      "Epoch 6/10\n",
      "50000/50000 [==============================] - 28s 569us/step - loss: 0.0711 - acc: 0.9758\n",
      "Epoch 7/10\n",
      "50000/50000 [==============================] - 28s 562us/step - loss: 0.0548 - acc: 0.9814\n",
      "Epoch 8/10\n",
      "50000/50000 [==============================] - 28s 553us/step - loss: 0.0609 - acc: 0.9802\n",
      "Epoch 9/10\n",
      "50000/50000 [==============================] - 28s 559us/step - loss: 0.0522 - acc: 0.9828\n",
      "Epoch 10/10\n",
      "50000/50000 [==============================] - 28s 559us/step - loss: 0.0501 - acc: 0.9837\n",
      "[0.5088027482867241, 0.8736]\n",
      "True\n",
      "Epoch 1/10\n",
      "50000/50000 [==============================] - 29s 586us/step - loss: 0.3230 - acc: 0.8944\n",
      "Epoch 2/10\n",
      "50000/50000 [==============================] - 27s 536us/step - loss: 0.1191 - acc: 0.9591\n",
      "Epoch 3/10\n",
      "50000/50000 [==============================] - 26s 529us/step - loss: 0.0897 - acc: 0.9702\n",
      "Epoch 4/10\n",
      "50000/50000 [==============================] - 27s 534us/step - loss: 0.0777 - acc: 0.9734\n",
      "Epoch 5/10\n",
      "50000/50000 [==============================] - 27s 550us/step - loss: 0.0679 - acc: 0.9776\n",
      "Epoch 6/10\n",
      "50000/50000 [==============================] - 27s 538us/step - loss: 0.0616 - acc: 0.9783\n",
      "Epoch 7/10\n",
      "50000/50000 [==============================] - 27s 546us/step - loss: 0.0526 - acc: 0.9823\n",
      "Epoch 8/10\n",
      "50000/50000 [==============================] - 28s 558us/step - loss: 0.0491 - acc: 0.9841\n",
      "Epoch 9/10\n",
      "50000/50000 [==============================] - 27s 533us/step - loss: 0.0492 - acc: 0.9832\n",
      "Epoch 10/10\n",
      "50000/50000 [==============================] - 27s 545us/step - loss: 0.0488 - acc: 0.9839\n",
      "[0.4922173614799976, 0.8802]\n",
      "True\n",
      "Epoch 1/10\n",
      "50000/50000 [==============================] - 29s 572us/step - loss: 0.2723 - acc: 0.9088\n",
      "Epoch 2/10\n",
      "50000/50000 [==============================] - 27s 539us/step - loss: 0.1049 - acc: 0.9643\n",
      "Epoch 3/10\n",
      "50000/50000 [==============================] - 28s 558us/step - loss: 0.0755 - acc: 0.9746\n",
      "Epoch 4/10\n",
      "50000/50000 [==============================] - 27s 545us/step - loss: 0.0688 - acc: 0.9768\n",
      "Epoch 5/10\n",
      "50000/50000 [==============================] - 27s 539us/step - loss: 0.0633 - acc: 0.9789\n",
      "Epoch 6/10\n",
      "50000/50000 [==============================] - 28s 550us/step - loss: 0.0552 - acc: 0.9811\n",
      "Epoch 7/10\n",
      "50000/50000 [==============================] - 28s 560us/step - loss: 0.0483 - acc: 0.9835\n",
      "Epoch 8/10\n",
      "50000/50000 [==============================] - 28s 560us/step - loss: 0.0488 - acc: 0.9836\n",
      "Epoch 9/10\n",
      "50000/50000 [==============================] - 27s 544us/step - loss: 0.0450 - acc: 0.9845\n",
      "Epoch 10/10\n",
      "50000/50000 [==============================] - 27s 542us/step - loss: 0.0451 - acc: 0.9850\n",
      "[0.4840405019819736, 0.8854]\n",
      "True\n",
      "Epoch 1/10\n",
      "50000/50000 [==============================] - 30s 599us/step - loss: 0.2404 - acc: 0.9206\n",
      "Epoch 2/10\n",
      "50000/50000 [==============================] - 27s 547us/step - loss: 0.0896 - acc: 0.9696\n",
      "Epoch 3/10\n",
      "50000/50000 [==============================] - 28s 551us/step - loss: 0.0757 - acc: 0.9746\n",
      "Epoch 4/10\n",
      "50000/50000 [==============================] - 28s 553us/step - loss: 0.0615 - acc: 0.9794\n",
      "Epoch 5/10\n",
      "50000/50000 [==============================] - 28s 556us/step - loss: 0.0560 - acc: 0.9812\n",
      "Epoch 6/10\n",
      "50000/50000 [==============================] - 27s 544us/step - loss: 0.0496 - acc: 0.9826\n",
      "Epoch 7/10\n",
      "50000/50000 [==============================] - 28s 561us/step - loss: 0.0502 - acc: 0.9837\n",
      "Epoch 8/10\n",
      "50000/50000 [==============================] - 27s 536us/step - loss: 0.0452 - acc: 0.9849\n",
      "Epoch 9/10\n",
      "50000/50000 [==============================] - 28s 552us/step - loss: 0.0425 - acc: 0.9857\n",
      "Epoch 10/10\n",
      "50000/50000 [==============================] - 27s 545us/step - loss: 0.0405 - acc: 0.9864\n",
      "[0.5027077226817608, 0.8779]\n",
      "True\n",
      "Epoch 1/10\n",
      "50000/50000 [==============================] - 30s 596us/step - loss: 0.2363 - acc: 0.9231\n",
      "Epoch 2/10\n",
      "50000/50000 [==============================] - 28s 558us/step - loss: 0.0882 - acc: 0.9697\n",
      "Epoch 3/10\n",
      "50000/50000 [==============================] - 28s 561us/step - loss: 0.0735 - acc: 0.9747\n",
      "Epoch 4/10\n",
      "50000/50000 [==============================] - 28s 551us/step - loss: 0.0605 - acc: 0.9798\n",
      "Epoch 5/10\n",
      "50000/50000 [==============================] - 28s 558us/step - loss: 0.0553 - acc: 0.9812\n",
      "Epoch 6/10\n",
      "50000/50000 [==============================] - 28s 567us/step - loss: 0.0509 - acc: 0.9833\n",
      "Epoch 7/10\n",
      "50000/50000 [==============================] - 28s 566us/step - loss: 0.0477 - acc: 0.9840\n",
      "Epoch 8/10\n"
     ]
    },
    {
     "name": "stdout",
     "output_type": "stream",
     "text": [
      "50000/50000 [==============================] - 28s 557us/step - loss: 0.0442 - acc: 0.9842\n",
      "Epoch 9/10\n",
      "50000/50000 [==============================] - 28s 559us/step - loss: 0.0402 - acc: 0.9868\n",
      "Epoch 10/10\n",
      "50000/50000 [==============================] - 28s 558us/step - loss: 0.0416 - acc: 0.9860\n",
      "[0.5013186994731427, 0.8781]\n",
      "True\n",
      "Epoch 1/10\n",
      "50000/50000 [==============================] - 31s 623us/step - loss: 0.2285 - acc: 0.9250\n",
      "Epoch 2/10\n",
      "50000/50000 [==============================] - 27s 547us/step - loss: 0.0853 - acc: 0.9706\n",
      "Epoch 3/10\n",
      "50000/50000 [==============================] - 27s 548us/step - loss: 0.0691 - acc: 0.9758\n",
      "Epoch 4/10\n",
      "50000/50000 [==============================] - 27s 544us/step - loss: 0.0617 - acc: 0.9789\n",
      "Epoch 5/10\n",
      "50000/50000 [==============================] - 28s 559us/step - loss: 0.0543 - acc: 0.9814\n",
      "Epoch 6/10\n",
      "50000/50000 [==============================] - 28s 557us/step - loss: 0.0529 - acc: 0.9821\n",
      "Epoch 7/10\n",
      "50000/50000 [==============================] - 27s 544us/step - loss: 0.0448 - acc: 0.9847\n",
      "Epoch 8/10\n",
      "50000/50000 [==============================] - 28s 550us/step - loss: 0.0465 - acc: 0.9838\n",
      "Epoch 9/10\n",
      "50000/50000 [==============================] - 28s 570us/step - loss: 0.0429 - acc: 0.9853\n",
      "Epoch 10/10\n",
      "50000/50000 [==============================] - 28s 561us/step - loss: 0.0398 - acc: 0.9865\n",
      "[0.4743738075077534, 0.8856]\n"
     ]
    }
   ],
   "source": [
    "from keras import backend as K\n",
    "K.tensorflow_backend._get_available_gpus()\n",
    "train_metrics = []\n",
    "k = 0\n",
    "K_list= [3, 4, 5, 6, 7, 8, 9, 10, 20]\n",
    "for k in K_list:\n",
    "    pca_model = get_pca_model(k)\n",
    "    for i in range(len(pca_model.layers)):\n",
    "        if i==21:\n",
    "            pca_model.layers[i].set_weights([A[:, 0:k], np.zeros(k)])\n",
    "        elif i==22:\n",
    "            pca_model.layers[i].set_weights([B[0:k,:], model.layers[i-1].get_weights()[1]])\n",
    "        else:\n",
    "            if i<22:\n",
    "                pca_model.layers[i].set_weights(model.layers[i].get_weights())\n",
    "            else:\n",
    "                pca_model.layers[i].set_weights(model.layers[i-1].get_weights())\n",
    "    pca_model.compile(loss='categorical_crossentropy',optimizer=opt,metrics=['accuracy'])\n",
    "    pca_model.fit(X_train, Y_train, batch_size=32, nb_epoch=10, verbose=1)\n",
    "    #make sure weights are loaded correctly:\n",
    "    temp = pca_model.evaluate(X_test,Y_test,verbose=0)\n",
    "    train_metrics.append(temp)\n",
    "    print temp\n"
   ]
  },
  {
   "cell_type": "code",
   "execution_count": null,
   "metadata": {},
   "outputs": [],
   "source": []
  },
  {
   "cell_type": "code",
   "execution_count": 21,
   "metadata": {},
   "outputs": [
    {
     "name": "stdout",
     "output_type": "stream",
     "text": [
      "[0.8638, 0.8726, 0.8719, 0.8736, 0.8802, 0.8854, 0.8779, 0.8781, 0.8856, 0.8339]\n"
     ]
    },
    {
     "data": {
      "text/plain": [
       "Text(0.5,0,'k')"
      ]
     },
     "execution_count": 21,
     "metadata": {},
     "output_type": "execute_result"
    },
    {
     "data": {
      "image/png": "[encoded data removed]",
      "text/plain": [
       "<Figure size 432x288 with 1 Axes>"
      ]
     },
     "metadata": {},
     "output_type": "display_data"
    }
   ],
   "source": [
    "K_list= [2, 3, 4, 5, 6, 7, 8, 9, 10, 20]\n",
    "\n",
    "t = [0.8339]+[train_metrics[i][1] for i in range(len(train_metrics-1))]\n",
    "\n",
    "print(t)\n",
    "#t.append(0.8339)\n",
    "\n",
    "plt.plot(K_list, t)\n",
    "\n",
    "plt.ylabel('Retrained model Accuracy')\n",
    "plt.xlabel('k')"
   ]
  },
  {
   "cell_type": "code",
   "execution_count": 23,
   "metadata": {},
   "outputs": [
    {
     "data": {
      "text/plain": [
       "Text(0.5,0,'computational complexity')"
      ]
     },
     "execution_count": 23,
     "metadata": {},
     "output_type": "execute_result"
    },
    {
     "data": {
      "image/png": "[encoded data removed]",
      "text/plain": [
       "<Figure size 432x288 with 1 Axes>"
      ]
     },
     "metadata": {},
     "output_type": "display_data"
    }
   ],
   "source": [
    "K_list= [2, 3, 4, 5, 6, 7, 8, 9, 10, 20]\n",
    "\n",
    "K_list = np.array(K_list)*(256+512)\n",
    "\n",
    "plt.plot(K_list, t)\n",
    "\n",
    "plt.ylabel('Retrained model Accuracy')\n",
    "plt.xlabel('computational complexity')"
   ]
  },
  {
   "cell_type": "code",
   "execution_count": null,
   "metadata": {},
   "outputs": [],
   "source": [
    "\n",
    "model.fit(X_train, Y_train, \n",
    "          batch_size=32, nb_epoch=10, verbose=1)"
   ]
  },
  {
   "cell_type": "code",
   "execution_count": 89,
   "metadata": {},
   "outputs": [
    {
     "name": "stdout",
     "output_type": "stream",
     "text": [
      "[1.8299647834777832, 0.4077]\n"
     ]
    }
   ],
   "source": [
    "pca_model.compile(loss='sparse_categorical_crossentropy',optimizer=opt,metrics=['accuracy'])\n",
    "#make sure weights are loaded correctly:\n",
    "print pca_model.evaluate(X_test,y_test,verbose=0)"
   ]
  },
  {
   "cell_type": "code",
   "execution_count": 68,
   "metadata": {},
   "outputs": [
    {
     "name": "stdout",
     "output_type": "stream",
     "text": [
      "[[[[-0.21850443 -0.19661129 -0.8015845  ...  0.2030479   0.46006626\n",
      "    -0.14565656]\n",
      "   [-0.28254363 -0.22654423 -0.5332135  ... -0.21021682  0.522837\n",
      "    -0.29202121]\n",
      "   [-0.24363984  0.04696696 -0.5090855  ...  0.01122065  0.42179805\n",
      "    -0.5619395 ]]\n",
      "\n",
      "  [[-0.29159713  0.09303226 -0.7662848  ...  0.3105113   0.14536\n",
      "    -0.14412782]\n",
      "   [-0.31670815  0.38643542 -0.5755672  ... -0.1842457   0.22713771\n",
      "    -0.48960602]\n",
      "   [-0.24075088  0.01640312 -0.49678385 ...  0.18450567  0.22392637\n",
      "    -0.48417062]]\n",
      "\n",
      "  [[-0.247562    0.10969153 -0.17736514 ...  0.10021755 -0.11974798\n",
      "    -0.29254887]\n",
      "   [-0.14881185  0.63796175 -0.03121901 ... -0.11297259 -0.10083051\n",
      "    -0.7470124 ]\n",
      "   [-0.09945101 -0.04572962 -0.18915904 ...  0.27012625 -0.23200361\n",
      "    -0.7047037 ]]]\n",
      "\n",
      "\n",
      " [[[-0.63946104  0.21387923 -0.6127693  ...  0.13142559  0.25181842\n",
      "    -0.43473256]\n",
      "   [-0.53057885 -0.03638815 -0.37610638 ... -0.28001803  0.3089897\n",
      "    -0.51163644]\n",
      "   [-0.3902824   0.32623202 -0.31317136 ... -0.07531706  0.2883966\n",
      "    -0.44844034]]\n",
      "\n",
      "  [[-0.7621354  -0.02481589 -0.6202518  ...  0.13494332  0.02845046\n",
      "    -0.05817136]\n",
      "   [-0.5646647   0.09811769 -0.42682236 ... -0.3632975  -0.04096596\n",
      "    -0.12857881]\n",
      "   [-0.4404284   0.08625907 -0.3305035  ...  0.04826991  0.10272267\n",
      "    -0.25573075]]\n",
      "\n",
      "  [[-0.5052971  -0.0720222  -0.29332298 ...  0.21329626  0.25172672\n",
      "    -0.30722895]\n",
      "   [-0.3445988   0.18095993 -0.04311761 ... -0.01162018  0.1769143\n",
      "    -0.40779817]\n",
      "   [-0.33891636 -0.30583766 -0.12519096 ...  0.3979527   0.06768664\n",
      "    -0.31036735]]]\n",
      "\n",
      "\n",
      " [[[-0.70671976  0.22726884 -0.24246868 ...  0.19917732  0.03823511\n",
      "    -0.7003758 ]\n",
      "   [-0.4855639  -0.28673226 -0.08089165 ... -0.14546695 -0.21727039\n",
      "    -0.3038191 ]\n",
      "   [-0.42522395  0.32660732 -0.20217857 ...  0.0513561  -0.0601463\n",
      "    -0.40353101]]\n",
      "\n",
      "  [[-0.7245639   0.22747818 -0.20435163 ...  0.0899875   0.20619567\n",
      "    -0.38351762]\n",
      "   [-0.6684395  -0.16034095 -0.12113424 ... -0.16134053  0.10344782\n",
      "    -0.04970092]\n",
      "   [-0.52892435  0.2763467  -0.25841713 ...  0.19731179  0.36616647\n",
      "    -0.10752372]]\n",
      "\n",
      "  [[-0.53763485  0.02203184 -0.4101738  ...  0.20284507  0.36595815\n",
      "    -0.44615775]\n",
      "   [-0.63311917  0.04734439 -0.26161304 ...  0.19313967  0.3712746\n",
      "    -0.08666155]\n",
      "   [-0.322124   -0.08859511 -0.2534451  ...  0.4565417   0.4276443\n",
      "    -0.11933804]]]]\n"
     ]
    }
   ],
   "source": [
    "print(np.sum(np.array(model.layers[0].get_weights())))"
   ]
  },
  {
   "cell_type": "code",
   "execution_count": null,
   "metadata": {},
   "outputs": [],
   "source": []
  },
  {
   "cell_type": "code",
   "execution_count": 83,
   "metadata": {},
   "outputs": [
    {
     "data": {
      "text/plain": [
       "list"
      ]
     },
     "execution_count": 83,
     "metadata": {},
     "output_type": "execute_result"
    }
   ],
   "source": [
    "type(pca_model.layers[21].get_weights())"
   ]
  },
  {
   "cell_type": "code",
   "execution_count": 85,
   "metadata": {},
   "outputs": [
    {
     "data": {
      "text/plain": [
       "(2,)"
      ]
     },
     "execution_count": 85,
     "metadata": {},
     "output_type": "execute_result"
    }
   ],
   "source": [
    "np.zeros(2).shape"
   ]
  },
  {
   "cell_type": "code",
   "execution_count": 78,
   "metadata": {},
   "outputs": [
    {
     "name": "stdout",
     "output_type": "stream",
     "text": [
      "(3, 3, 3, 64)\n"
     ]
    }
   ],
   "source": [
    "print(np.array(pca_model.layers[0].get_weights()[0]).shape)\n"
   ]
  },
  {
   "cell_type": "code",
   "execution_count": 79,
   "metadata": {},
   "outputs": [
    {
     "name": "stdout",
     "output_type": "stream",
     "text": [
      "(3, 3, 3, 64)\n"
     ]
    }
   ],
   "source": [
    "print(np.array(model.layers[0].get_weights()[0]).shape)"
   ]
  },
  {
   "cell_type": "code",
   "execution_count": null,
   "metadata": {},
   "outputs": [],
   "source": []
  }
 ],
 "metadata": {
  "kernelspec": {
   "display_name": "Python 2",
   "language": "python",
   "name": "python2"
  },
  "language_info": {
   "codemirror_mode": {
    "name": "ipython",
    "version": 2
   },
   "file_extension": ".py",
   "mimetype": "text/x-python",
   "name": "python",
   "nbconvert_exporter": "python",
   "pygments_lexer": "ipython2",
   "version": "2.7.14"
  }
 },
 "nbformat": 4,
 "nbformat_minor": 2
}
